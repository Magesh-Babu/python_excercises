{
 "cells": [
  {
   "cell_type": "markdown",
   "id": "f193e061",
   "metadata": {},
   "source": [
    "# Python exercises 1 part 1/2\n",
    "The exercises are connected to the video available at: https://www.youtube.com/watch?v=M7bnYJyCx0Q from 0:00 to 1:02:20.\n",
    "\n",
    "When writing the solutions make sure the code is clear and readable. When providing comments, follow the general principle that you should comment \"why\" you are doing something and not \"what\", the \"what\" is seen by the code itself. "
   ]
  },
  {
   "cell_type": "markdown",
   "id": "fca64927",
   "metadata": {},
   "source": [
    "### Add and multiply the two numbers below. "
   ]
  },
  {
   "cell_type": "code",
   "execution_count": 1,
   "id": "a904dc86",
   "metadata": {},
   "outputs": [],
   "source": [
    "nr1 = 5\n",
    "nr2 = 10"
   ]
  },
  {
   "cell_type": "code",
   "execution_count": 2,
   "id": "e6dbf0a8",
   "metadata": {},
   "outputs": [
    {
     "name": "stdout",
     "output_type": "stream",
     "text": [
      "15\n",
      "50\n"
     ]
    }
   ],
   "source": [
    "print (nr1 + nr2)\n",
    "print (nr1*nr2)"
   ]
  },
  {
   "cell_type": "markdown",
   "id": "73a0e54d",
   "metadata": {},
   "source": [
    "# Lists"
   ]
  },
  {
   "cell_type": "markdown",
   "id": "86d1e9fb",
   "metadata": {},
   "source": [
    "### Extract the first and last element in the list."
   ]
  },
  {
   "cell_type": "code",
   "execution_count": 4,
   "id": "bcf3c7c7",
   "metadata": {},
   "outputs": [],
   "source": [
    "l = [1, 2, 3, 10, 15, 100]"
   ]
  },
  {
   "cell_type": "code",
   "execution_count": 5,
   "id": "c8c1ad57",
   "metadata": {},
   "outputs": [
    {
     "name": "stdout",
     "output_type": "stream",
     "text": [
      "1\n",
      "100\n"
     ]
    }
   ],
   "source": [
    "print (l[0])\n",
    "print (l[-1])"
   ]
  },
  {
   "cell_type": "markdown",
   "id": "acd427da",
   "metadata": {},
   "source": [
    "### Check if the first and last number is the same in each list respectively. So, we expect the answer True in list_1 and False in list_2."
   ]
  },
  {
   "cell_type": "code",
   "execution_count": 6,
   "id": "191cc82d",
   "metadata": {},
   "outputs": [],
   "source": [
    "list_1 = [10, 20, 30, 40, 10]\n",
    "list_2 = [75, 65, 35, 75, 30]"
   ]
  },
  {
   "cell_type": "code",
   "execution_count": 11,
   "id": "3abe7838",
   "metadata": {},
   "outputs": [
    {
     "name": "stdout",
     "output_type": "stream",
     "text": [
      "True\n",
      "False\n"
     ]
    }
   ],
   "source": [
    "print (list_1[0] == list_1[-1])\n",
    "print (list_2[0] == list_2[-1])"
   ]
  },
  {
   "cell_type": "markdown",
   "id": "fbe9606a",
   "metadata": {},
   "source": [
    "### Replace the number 4567 in the list with the number 22. "
   ]
  },
  {
   "cell_type": "code",
   "execution_count": 13,
   "id": "c112096f",
   "metadata": {},
   "outputs": [],
   "source": [
    "replace_4567 = [100, 2, 4567, 5, 7]"
   ]
  },
  {
   "cell_type": "code",
   "execution_count": 14,
   "id": "b88c6628",
   "metadata": {},
   "outputs": [
    {
     "name": "stdout",
     "output_type": "stream",
     "text": [
      "[100, 2, 22, 5, 7]\n"
     ]
    }
   ],
   "source": [
    "replace_4567[2] = 22\n",
    "print(replace_4567)"
   ]
  },
  {
   "cell_type": "markdown",
   "id": "32fe337d",
   "metadata": {},
   "source": [
    "### Replace the two numbers 3 and 4 with 30 and 40 in one line of code  by using slicing. "
   ]
  },
  {
   "cell_type": "code",
   "execution_count": 23,
   "id": "9d3eecd6",
   "metadata": {},
   "outputs": [],
   "source": [
    "replace_two_numbers = [1, 2, 3, 4, 5]"
   ]
  },
  {
   "cell_type": "code",
   "execution_count": 24,
   "id": "e6798e4f",
   "metadata": {},
   "outputs": [
    {
     "name": "stdout",
     "output_type": "stream",
     "text": [
      "[1, 2, 30, 40, 5]\n"
     ]
    }
   ],
   "source": [
    "replace_two_numbers[2:4] = 30, 40\n",
    "print(replace_two_numbers)"
   ]
  },
  {
   "cell_type": "markdown",
   "id": "1d595e27",
   "metadata": {},
   "source": [
    "### Print out the list below but in reverse order."
   ]
  },
  {
   "cell_type": "code",
   "execution_count": 25,
   "id": "6df7567f",
   "metadata": {},
   "outputs": [],
   "source": [
    "my_list = [1, 2, 3, 10, 15, 100]"
   ]
  },
  {
   "cell_type": "code",
   "execution_count": 26,
   "id": "88e8e811",
   "metadata": {},
   "outputs": [
    {
     "name": "stdout",
     "output_type": "stream",
     "text": [
      "[100, 15, 10, 3, 2, 1]\n"
     ]
    }
   ],
   "source": [
    "print(my_list[::-1])"
   ]
  },
  {
   "cell_type": "markdown",
   "id": "54c58e8a",
   "metadata": {},
   "source": [
    "### Extract the following numbers with indexing or slicing:\n",
    "* The number 5 in the list within the list. \n",
    "* Extract the whole list [10, 12, 13, 5, 100].\n",
    "* Extract 12, 13, 5 in the list within the list\n",
    "* Extract the number 8888 with negative indexing.\n",
    "* Extract 1, 2, [10, 12, 13, 5, 100]."
   ]
  },
  {
   "cell_type": "code",
   "execution_count": 27,
   "id": "c12e313d",
   "metadata": {},
   "outputs": [],
   "source": [
    "list_containing_a_list = [1, 2, [10, 12, 13, 5, 100], 8888, 3, [1, 2, 3]]"
   ]
  },
  {
   "cell_type": "code",
   "execution_count": 32,
   "id": "7801b694",
   "metadata": {},
   "outputs": [
    {
     "name": "stdout",
     "output_type": "stream",
     "text": [
      "[10, 12, 13, 5, 100]\n",
      "[12, 13, 5]\n",
      "8888\n",
      "[1, 2, [10, 12, 13, 5, 100]]\n"
     ]
    }
   ],
   "source": [
    "print (list_containing_a_list[2])\n",
    "print (list_containing_a_list[2][1:4])\n",
    "print (list_containing_a_list[-3])\n",
    "print (list_containing_a_list[0:3])"
   ]
  },
  {
   "cell_type": "markdown",
   "id": "731a9e3e",
   "metadata": {},
   "source": [
    "### Append the empty list with the number 10 and the string 'Hello'. You should use the append method twice. "
   ]
  },
  {
   "cell_type": "code",
   "execution_count": 36,
   "id": "faecabaa",
   "metadata": {},
   "outputs": [],
   "source": [
    "empty_list_1 = []"
   ]
  },
  {
   "cell_type": "code",
   "execution_count": 37,
   "id": "e5e57508",
   "metadata": {},
   "outputs": [
    {
     "name": "stdout",
     "output_type": "stream",
     "text": [
      "[10, 'Hello']\n"
     ]
    }
   ],
   "source": [
    "empty_list_1.append(10)\n",
    "empty_list_1.append('Hello')\n",
    "print (empty_list_1)"
   ]
  },
  {
   "cell_type": "markdown",
   "id": "bebb5618",
   "metadata": {},
   "source": [
    "### Append the empty list with the number 10 and the string 'Hello'. You should use the extend method once. "
   ]
  },
  {
   "cell_type": "code",
   "execution_count": 42,
   "id": "82e7301a",
   "metadata": {},
   "outputs": [],
   "source": [
    "empty_list_2 = []"
   ]
  },
  {
   "cell_type": "code",
   "execution_count": 43,
   "id": "ffc6525f",
   "metadata": {},
   "outputs": [
    {
     "name": "stdout",
     "output_type": "stream",
     "text": [
      "[10, 'Hello']\n"
     ]
    }
   ],
   "source": [
    "l1 = [10, 'Hello']\n",
    "empty_list_2.extend(l1)\n",
    "print (empty_list_2)"
   ]
  },
  {
   "cell_type": "markdown",
   "id": "539b730a",
   "metadata": {},
   "source": [
    "### Use list comprehension to create a new list from list_example, where each number is mulitplied by 10. You should only include the numbers between 4-8 where 4 and 8 is included."
   ]
  },
  {
   "cell_type": "code",
   "execution_count": 44,
   "id": "14300485",
   "metadata": {},
   "outputs": [],
   "source": [
    "list_example = [1, 2, 3, 4, 5, 6, 7, 8, 9, 10]"
   ]
  },
  {
   "cell_type": "code",
   "execution_count": 45,
   "id": "61207a3b",
   "metadata": {},
   "outputs": [
    {
     "name": "stdout",
     "output_type": "stream",
     "text": [
      "[40, 50, 60, 70, 80]\n"
     ]
    }
   ],
   "source": [
    "l2 = []\n",
    "for i in list_example:\n",
    "    if i >= 4 and i <=8:\n",
    "        i = i*10\n",
    "        l2.append(i)\n",
    "print(l2)\n",
    "\n",
    "#new_list = [x*10 for x in list_example if 4<=x<=8]\n",
    "#print(new_list)"
   ]
  },
  {
   "cell_type": "markdown",
   "id": "49aa8bb4",
   "metadata": {},
   "source": [
    "### Concatenate the two lists below elementwise so you get a new list ['My', 'name', 'is', 'Antonio']. Hint: use the zip function. \n",
    "Expected output: [\"My\", \"name\", \"is\", \"Antonio\"]. "
   ]
  },
  {
   "cell_type": "code",
   "execution_count": 55,
   "id": "fde2701c",
   "metadata": {},
   "outputs": [],
   "source": [
    "list1 = [\"M\", \"na\", \"i\", \"Anto\"]\n",
    "list2 = [\"y\", \"me\", \"s\", \"nio\"]"
   ]
  },
  {
   "cell_type": "code",
   "execution_count": 60,
   "id": "3e7f0356",
   "metadata": {},
   "outputs": [
    {
     "name": "stdout",
     "output_type": "stream",
     "text": [
      "['My', 'name', 'is', 'Antonio']\n"
     ]
    }
   ],
   "source": [
    "print([v1 + v2 for v1, v2 in zip(list1, list2)])"
   ]
  },
  {
   "cell_type": "markdown",
   "id": "56bf725b",
   "metadata": {},
   "source": [
    "# Tuples"
   ]
  },
  {
   "cell_type": "markdown",
   "id": "d389f5d9",
   "metadata": {},
   "source": [
    "### Unpack the tuple so that we get 4 new variables. "
   ]
  },
  {
   "cell_type": "code",
   "execution_count": 63,
   "id": "391422e9",
   "metadata": {},
   "outputs": [],
   "source": [
    "my_tuple = (10, 20, 30, 40)"
   ]
  },
  {
   "cell_type": "code",
   "execution_count": 64,
   "id": "bc420b70",
   "metadata": {},
   "outputs": [
    {
     "name": "stdout",
     "output_type": "stream",
     "text": [
      "10\n",
      "20\n",
      "30\n",
      "40\n"
     ]
    }
   ],
   "source": [
    "(a, b, c, d) = my_tuple\n",
    "print(a)\n",
    "print(b)\n",
    "print(c)\n",
    "print(d)\n"
   ]
  },
  {
   "cell_type": "markdown",
   "id": "e3dbd7e3",
   "metadata": {},
   "source": [
    "### Explain with your own words what the code below containing two scenarios does. "
   ]
  },
  {
   "cell_type": "code",
   "execution_count": 65,
   "id": "9cd720b9",
   "metadata": {},
   "outputs": [
    {
     "name": "stdout",
     "output_type": "stream",
     "text": [
      "2\n",
      "4\n",
      "8\n",
      "16\n",
      "\n",
      "(3, 9, 27, 81)\n"
     ]
    }
   ],
   "source": [
    "def f(x): \n",
    "    return (x, x**2, x**3, x**4)\n",
    "\n",
    "# Scenario 1.\n",
    "x1, x2, x3, x4 = f(2)\n",
    "print(x1)\n",
    "print(x2)\n",
    "print(x3)\n",
    "print(x4)\n",
    "\n",
    "print()\n",
    "\n",
    "# Scenario 2.\n",
    "x = f(3)\n",
    "print(x)"
   ]
  },
  {
   "cell_type": "markdown",
   "id": "7af93026",
   "metadata": {},
   "source": [
    "Scenario 1 gives values of x, x^2, x^3, x^4 as x1, x2, x3, x4 which is unpacking the tuple but in Scenario 2 gives without unpacking."
   ]
  },
  {
   "cell_type": "markdown",
   "id": "a1d0ad8c",
   "metadata": {},
   "source": [
    "### Count the number of times 24 occurs in the tupple. "
   ]
  },
  {
   "cell_type": "code",
   "execution_count": 66,
   "id": "da5e6047",
   "metadata": {},
   "outputs": [],
   "source": [
    "tuple_22 = 24, 2, 4, 24, 24, 5"
   ]
  },
  {
   "cell_type": "code",
   "execution_count": 67,
   "id": "818a5471",
   "metadata": {},
   "outputs": [
    {
     "name": "stdout",
     "output_type": "stream",
     "text": [
      "3\n"
     ]
    }
   ],
   "source": [
    "print (tuple_22.count(24))"
   ]
  },
  {
   "cell_type": "markdown",
   "id": "02b90433",
   "metadata": {},
   "source": [
    "### Swap the two tuples, i.e. t1 should be replaced by t2 and vice versa. "
   ]
  },
  {
   "cell_type": "code",
   "execution_count": 71,
   "id": "d0bf409a",
   "metadata": {},
   "outputs": [],
   "source": [
    "t1 = ('Python', 'MATLAB')\n",
    "t2 = ('R', 'Julia')"
   ]
  },
  {
   "cell_type": "code",
   "execution_count": 72,
   "id": "54e7301b",
   "metadata": {},
   "outputs": [
    {
     "name": "stdout",
     "output_type": "stream",
     "text": [
      "('R', 'Julia')\n",
      "('Python', 'MATLAB')\n"
     ]
    }
   ],
   "source": [
    "t1,t2 = t2,t1\n",
    "print (t1)\n",
    "print (t2)"
   ]
  },
  {
   "cell_type": "markdown",
   "id": "f44bc333",
   "metadata": {},
   "source": [
    "# Dictionaries"
   ]
  },
  {
   "cell_type": "markdown",
   "id": "c59f5a5a",
   "metadata": {},
   "source": [
    "### We have two lists, use both of them to convert it to a dictionary. l1 should be the keys whereas l2 should be the values. Hint, use the zip function. "
   ]
  },
  {
   "cell_type": "code",
   "execution_count": 73,
   "id": "c22949bc",
   "metadata": {},
   "outputs": [],
   "source": [
    "l1 = [1, 2, 3]\n",
    "l2 = ['Python', 'C++', 'Java']"
   ]
  },
  {
   "cell_type": "code",
   "execution_count": 74,
   "id": "d32b1d97",
   "metadata": {},
   "outputs": [
    {
     "name": "stdout",
     "output_type": "stream",
     "text": [
      "{1: 'Python', 2: 'C++', 3: 'Java'}\n"
     ]
    }
   ],
   "source": [
    "print (dict(zip(l1, l2)))"
   ]
  },
  {
   "cell_type": "markdown",
   "id": "08c24361",
   "metadata": {},
   "source": [
    "### Print out the value corresponding to the key \"1\"."
   ]
  },
  {
   "cell_type": "code",
   "execution_count": 79,
   "id": "64ed0f46",
   "metadata": {},
   "outputs": [],
   "source": [
    "dictionary = {0: 'Easy', 1: 'as', 2: 'ABC'}"
   ]
  },
  {
   "cell_type": "code",
   "execution_count": 83,
   "id": "283ece07",
   "metadata": {},
   "outputs": [
    {
     "name": "stdout",
     "output_type": "stream",
     "text": [
      "as\n"
     ]
    }
   ],
   "source": [
    "print (dictionary[1])"
   ]
  },
  {
   "cell_type": "markdown",
   "id": "49657a9e",
   "metadata": {},
   "source": [
    "### Explain with your own words what the code does. "
   ]
  },
  {
   "cell_type": "code",
   "execution_count": 84,
   "id": "b31f3461",
   "metadata": {},
   "outputs": [],
   "source": [
    "def y(x):\n",
    "  y0 = x\n",
    "  y1 = x**2\n",
    "  y2 = x**3\n",
    "\n",
    "  return {'y0': y0, 'y1': y1 ,'y2': y2}"
   ]
  },
  {
   "cell_type": "code",
   "execution_count": 85,
   "id": "16e62182",
   "metadata": {},
   "outputs": [
    {
     "data": {
      "text/plain": [
       "4"
      ]
     },
     "execution_count": 85,
     "metadata": {},
     "output_type": "execute_result"
    }
   ],
   "source": [
    "y(2)['y1']"
   ]
  },
  {
   "cell_type": "markdown",
   "id": "018b60ac",
   "metadata": {},
   "source": [
    "# Sets"
   ]
  },
  {
   "cell_type": "markdown",
   "id": "e2b2b51c",
   "metadata": {},
   "source": [
    "### Create a set named my_set containing the items: Python, R, MATLAB, Julia, SAS, C.  "
   ]
  },
  {
   "cell_type": "code",
   "execution_count": 87,
   "id": "79a04e2a",
   "metadata": {},
   "outputs": [],
   "source": [
    "my_set = {'Python', 'R', 'MATLAB', 'Julia', 'SAS', 'C'}"
   ]
  },
  {
   "cell_type": "markdown",
   "id": "4b22140b",
   "metadata": {},
   "source": [
    "### Find all elements that are in atleast one of the sets. "
   ]
  },
  {
   "cell_type": "code",
   "execution_count": 95,
   "id": "59a5c7ef",
   "metadata": {},
   "outputs": [],
   "source": [
    "set_a = {1, 2, 99}\n",
    "set_b = {0, 100, 15, 765}"
   ]
  },
  {
   "cell_type": "code",
   "execution_count": 103,
   "id": "cb6f8df0",
   "metadata": {},
   "outputs": [
    {
     "name": "stdout",
     "output_type": "stream",
     "text": [
      "{0, 1, 2, 99, 100, 15, 765}\n"
     ]
    }
   ],
   "source": [
    "for i in set_a:\n",
    "    if (i not in set_b):\n",
    "        set_b.add(i)\n",
    "print (set_b)\n",
    "\n",
    "# set_a.union(set_b)"
   ]
  },
  {
   "cell_type": "markdown",
   "id": "a7b6740f",
   "metadata": {},
   "source": [
    "### Find all the items that are in *both* lists and return those values in a list. "
   ]
  },
  {
   "cell_type": "code",
   "execution_count": 100,
   "id": "9a81165c",
   "metadata": {},
   "outputs": [],
   "source": [
    "l1 = ['Python', 'R', 'MATLAB', 'Julia']\n",
    "l2 = ['Python', 'Julia']"
   ]
  },
  {
   "cell_type": "code",
   "execution_count": 102,
   "id": "555feeef",
   "metadata": {},
   "outputs": [
    {
     "name": "stdout",
     "output_type": "stream",
     "text": [
      "['Python', 'Julia']\n"
     ]
    }
   ],
   "source": [
    "l3 = []\n",
    "for i in l1:\n",
    "    if i in l2:\n",
    "       l3.append(i)\n",
    "print (l3)\n",
    "\n",
    "# intersection = list(set(l1).intersection(set(l2)))\n",
    "# print(intersection)\n",
    "# print(type(intersection))"
   ]
  },
  {
   "cell_type": "markdown",
   "id": "8a79680b",
   "metadata": {},
   "source": [
    "### Find all the unique elements of the list. "
   ]
  },
  {
   "cell_type": "code",
   "execution_count": 107,
   "id": "b3564d41",
   "metadata": {},
   "outputs": [],
   "source": [
    "l = [1, 1, 2, 2, 3, 1, 2]"
   ]
  },
  {
   "cell_type": "code",
   "execution_count": 108,
   "id": "ed1ef5e2",
   "metadata": {},
   "outputs": [
    {
     "name": "stdout",
     "output_type": "stream",
     "text": [
      "[1, 2, 3]\n"
     ]
    }
   ],
   "source": [
    "l1 = []\n",
    "for i in l:\n",
    "    if i not in l1:\n",
    "        l1.append(i)\n",
    "print(l1)\n",
    "\n",
    "# print(set(l))\n",
    "\n",
    "# If you would like to return the unique elements in a list this is easily done:\n",
    "# print(list(set(l)))"
   ]
  },
  {
   "cell_type": "markdown",
   "id": "68969341",
   "metadata": {},
   "source": [
    "### Find all the elements that are in set_1 but not in set_2."
   ]
  },
  {
   "cell_type": "code",
   "execution_count": 109,
   "id": "4e1d29c9",
   "metadata": {},
   "outputs": [],
   "source": [
    "set_1 = {1, 2, 3, 4, 5, 6}\n",
    "set_2 = set([1, 3, 4])"
   ]
  },
  {
   "cell_type": "code",
   "execution_count": 110,
   "id": "c62d1c2d",
   "metadata": {},
   "outputs": [
    {
     "data": {
      "text/plain": [
       "{2, 5, 6}"
      ]
     },
     "execution_count": 110,
     "metadata": {},
     "output_type": "execute_result"
    }
   ],
   "source": [
    "set_1.difference(set_2)"
   ]
  },
  {
   "cell_type": "markdown",
   "id": "38863120",
   "metadata": {},
   "source": [
    "# Iteration & Loops"
   ]
  },
  {
   "cell_type": "markdown",
   "id": "8e6bf0e5",
   "metadata": {},
   "source": [
    "### Print out all the elements in the list \"looping_list\" with a for loop."
   ]
  },
  {
   "cell_type": "code",
   "execution_count": 111,
   "id": "69039249",
   "metadata": {},
   "outputs": [],
   "source": [
    "looping_list = [0, 'a', 'b', [1, 2, 3], ('Python', 'R'), 55]"
   ]
  },
  {
   "cell_type": "code",
   "execution_count": 112,
   "id": "2e0c7dec",
   "metadata": {},
   "outputs": [
    {
     "name": "stdout",
     "output_type": "stream",
     "text": [
      "0\n",
      "a\n",
      "b\n",
      "[1, 2, 3]\n",
      "('Python', 'R')\n",
      "55\n"
     ]
    }
   ],
   "source": [
    "for i in looping_list:\n",
    "    print (i)"
   ]
  },
  {
   "cell_type": "markdown",
   "id": "f58c2b64",
   "metadata": {},
   "source": [
    "### Print out all the elements in the list \"looping_list\" and enumerate the iteration number."
   ]
  },
  {
   "cell_type": "code",
   "execution_count": 113,
   "id": "cb4b490c",
   "metadata": {},
   "outputs": [],
   "source": [
    "looping_list = [0, 'a', 'b', [1, 2, 3], ('Python', 'R'), 55]"
   ]
  },
  {
   "cell_type": "code",
   "execution_count": 114,
   "id": "b401f949",
   "metadata": {},
   "outputs": [
    {
     "name": "stdout",
     "output_type": "stream",
     "text": [
      "0 0\n",
      "1 a\n",
      "2 b\n",
      "3 [1, 2, 3]\n",
      "4 ('Python', 'R')\n",
      "5 55\n"
     ]
    }
   ],
   "source": [
    "for i,j in enumerate(looping_list):\n",
    "    print (i,j)"
   ]
  },
  {
   "cell_type": "markdown",
   "id": "296e1f3a",
   "metadata": {},
   "source": [
    "### Write a for loop to print out each letter in the string. "
   ]
  },
  {
   "cell_type": "code",
   "execution_count": 115,
   "id": "e3aae8b8",
   "metadata": {},
   "outputs": [],
   "source": [
    "for_string = 'Python!'"
   ]
  },
  {
   "cell_type": "code",
   "execution_count": 116,
   "id": "339911b9",
   "metadata": {},
   "outputs": [
    {
     "name": "stdout",
     "output_type": "stream",
     "text": [
      "P\n",
      "y\n",
      "t\n",
      "h\n",
      "o\n",
      "n\n",
      "!\n"
     ]
    }
   ],
   "source": [
    "for i in for_string:\n",
    "    print(i)"
   ]
  },
  {
   "cell_type": "markdown",
   "id": "68a29b13",
   "metadata": {},
   "source": [
    "### Write a while loop to print out each letter in the string. "
   ]
  },
  {
   "cell_type": "code",
   "execution_count": 117,
   "id": "0fe72c4d",
   "metadata": {},
   "outputs": [],
   "source": [
    "while_string = 'Is Awesome!'"
   ]
  },
  {
   "cell_type": "code",
   "execution_count": 118,
   "id": "8cf73954",
   "metadata": {},
   "outputs": [
    {
     "name": "stdout",
     "output_type": "stream",
     "text": [
      "I\n",
      "s\n",
      " \n",
      "A\n",
      "w\n",
      "e\n",
      "s\n",
      "o\n",
      "m\n",
      "e\n",
      "!\n"
     ]
    }
   ],
   "source": [
    "l = len(while_string)\n",
    "i = 0\n",
    "while i < l:\n",
    "    print(while_string[i])\n",
    "    i += 1"
   ]
  },
  {
   "cell_type": "markdown",
   "id": "84f69821",
   "metadata": {},
   "source": [
    "### Print the numbers 1, 2, ..., 10 with a while loop. "
   ]
  },
  {
   "cell_type": "code",
   "execution_count": 119,
   "id": "b26edc56",
   "metadata": {},
   "outputs": [
    {
     "name": "stdout",
     "output_type": "stream",
     "text": [
      "0\n",
      "1\n",
      "2\n",
      "3\n",
      "4\n",
      "5\n",
      "6\n",
      "7\n",
      "8\n",
      "9\n",
      "10\n"
     ]
    }
   ],
   "source": [
    "i = 0\n",
    "while i <= 10:\n",
    "    print(i)\n",
    "    i += 1"
   ]
  },
  {
   "cell_type": "markdown",
   "id": "38122cd9",
   "metadata": {},
   "source": [
    "### Print out all numbers that are divisible by 5 in the list \"numbers\". \n",
    "Hint: Use the modulo operator %. A number is divisible by 5 if the remainder after dividing by 5 is 0. "
   ]
  },
  {
   "cell_type": "code",
   "execution_count": 120,
   "id": "4a77126f",
   "metadata": {},
   "outputs": [],
   "source": [
    "numbers = [10, 20, 34, 46, 55]"
   ]
  },
  {
   "cell_type": "code",
   "execution_count": 121,
   "id": "63913f9b",
   "metadata": {},
   "outputs": [
    {
     "name": "stdout",
     "output_type": "stream",
     "text": [
      "10\n",
      "20\n",
      "55\n"
     ]
    }
   ],
   "source": [
    "for i in numbers:\n",
    "    if i % 5 == 0:\n",
    "        print (i)"
   ]
  },
  {
   "cell_type": "markdown",
   "id": "097e4726",
   "metadata": {},
   "source": [
    "### Print the numbers 0, 5, 10, 15, 20 with a for-loop and using the range function."
   ]
  },
  {
   "cell_type": "code",
   "execution_count": 122,
   "id": "e6730d54",
   "metadata": {},
   "outputs": [
    {
     "name": "stdout",
     "output_type": "stream",
     "text": [
      "0\n",
      "5\n",
      "10\n",
      "15\n",
      "20\n"
     ]
    }
   ],
   "source": [
    "for i in range(0, 25, 5):\n",
    "    print (i)"
   ]
  },
  {
   "cell_type": "markdown",
   "id": "fe281ab3",
   "metadata": {},
   "source": [
    "### Use a for loop to create a new list from list_example, where each number is mulitplied by 10. You should only include the numbers between 4-8 where 4 and 8 is included. (In general it is better to do this with list comprehension since it is more efficient but this is for exercise purpose.)"
   ]
  },
  {
   "cell_type": "code",
   "execution_count": 123,
   "id": "12303023",
   "metadata": {},
   "outputs": [],
   "source": [
    "list_example = [1, 2, 3, 4, 5, 6, 7, 8, 9, 10]"
   ]
  },
  {
   "cell_type": "code",
   "execution_count": 124,
   "id": "6b1360d5",
   "metadata": {},
   "outputs": [
    {
     "name": "stdout",
     "output_type": "stream",
     "text": [
      "[40, 50, 60, 70, 80]\n"
     ]
    }
   ],
   "source": [
    "l2 = []\n",
    "for i in list_example:\n",
    "    if i >= 4 and i <=8:   # if 4<=i<=8:\n",
    "        i = i*10\n",
    "        l2.append(i)\n",
    "print(l2)"
   ]
  },
  {
   "cell_type": "markdown",
   "id": "73fc584a",
   "metadata": {},
   "source": [
    "# Functions"
   ]
  },
  {
   "cell_type": "markdown",
   "id": "63236e09",
   "metadata": {},
   "source": [
    "### Create a function \"uppercase_converter\" that converts a string to uppercase. For example: uppercase_converter('hello') should return the value HELLO. "
   ]
  },
  {
   "cell_type": "code",
   "execution_count": 126,
   "id": "fa434d45",
   "metadata": {},
   "outputs": [
    {
     "name": "stdout",
     "output_type": "stream",
     "text": [
      "HELLO\n"
     ]
    }
   ],
   "source": [
    "def uppercase_converter(string):\n",
    "    return string.upper()\n",
    "\n",
    "a = uppercase_converter('hello')\n",
    "print (a)"
   ]
  },
  {
   "cell_type": "markdown",
   "id": "9103f538",
   "metadata": {},
   "source": [
    "### Create a function that accepts two arguments and that returns the sum and subtraction of the numbers. "
   ]
  },
  {
   "cell_type": "code",
   "execution_count": 127,
   "id": "6475dc5a",
   "metadata": {},
   "outputs": [
    {
     "name": "stdout",
     "output_type": "stream",
     "text": [
      "(15, 5)\n"
     ]
    }
   ],
   "source": [
    "def two_arguments(a, b):\n",
    "    return a+b, a-b\n",
    "ans = two_arguments(10, 5)\n",
    "print (ans)\n",
    "\n",
    "# def sum_and_add(x, y):\n",
    "#     addition = x + y\n",
    "#     subtraction = x - y\n",
    "#     return (addition, subtraction)\n",
    "\n",
    "# sum_and_add(10, 5)"
   ]
  },
  {
   "cell_type": "markdown",
   "id": "18c3c48a",
   "metadata": {},
   "source": [
    "### Create  a function that contains positional only, positional or keyword and finally keyword arguments only. Hint:\n",
    "**def f(pos_only_1, /, pos_or_kwd, *, kwd_only_1)** ."
   ]
  },
  {
   "cell_type": "code",
   "execution_count": null,
   "id": "d0d75159",
   "metadata": {},
   "outputs": [],
   "source": []
  },
  {
   "cell_type": "markdown",
   "id": "a677a3a7",
   "metadata": {},
   "source": [
    "### Assign a different name to the function and call it through the new name."
   ]
  },
  {
   "cell_type": "code",
   "execution_count": 128,
   "id": "c3538cea",
   "metadata": {},
   "outputs": [
    {
     "data": {
      "text/plain": [
       "3"
      ]
     },
     "execution_count": 128,
     "metadata": {},
     "output_type": "execute_result"
    }
   ],
   "source": [
    "def my_sum_function(x1, x2):\n",
    "    return x1 + x2\n",
    "\n",
    "my_sum_function(1,2)"
   ]
  },
  {
   "cell_type": "code",
   "execution_count": 129,
   "id": "cf8d1c0d",
   "metadata": {},
   "outputs": [
    {
     "data": {
      "text/plain": [
       "5"
      ]
     },
     "execution_count": 129,
     "metadata": {},
     "output_type": "execute_result"
    }
   ],
   "source": [
    "new_name = my_sum_function\n",
    "new_name(2,3)"
   ]
  },
  {
   "cell_type": "markdown",
   "id": "12e8be7b",
   "metadata": {},
   "source": [
    "### Write a function f that takes three arguments. The first two are numbers whereas the third is specifying wheter you want to multiply or add them. \n",
    "Example: \n",
    "\n",
    "f(2, 5, 'add') = 7\n",
    "\n",
    "f(2, 5, 'multiply') = 10\n",
    "\n",
    "f(2, 5, 'test') should return an error (raise an exception) and print out the message: Choose either \"add\" or \"multiply\" ."
   ]
  },
  {
   "cell_type": "code",
   "execution_count": 139,
   "id": "8ef8102e",
   "metadata": {},
   "outputs": [
    {
     "name": "stdout",
     "output_type": "stream",
     "text": [
      "8\n",
      "15\n"
     ]
    },
    {
     "ename": "Exception",
     "evalue": "Choose either \"add\" or \"multiply\" ",
     "output_type": "error",
     "traceback": [
      "\u001b[1;31m---------------------------------------------------------------------------\u001b[0m",
      "\u001b[1;31mException\u001b[0m                                 Traceback (most recent call last)",
      "Cell \u001b[1;32mIn[139], line 13\u001b[0m\n\u001b[0;32m     11\u001b[0m \u001b[38;5;28mprint\u001b[39m(f(\u001b[38;5;241m5\u001b[39m,\u001b[38;5;241m3\u001b[39m,\u001b[38;5;124m'\u001b[39m\u001b[38;5;124madd\u001b[39m\u001b[38;5;124m'\u001b[39m))\n\u001b[0;32m     12\u001b[0m \u001b[38;5;28mprint\u001b[39m(f(\u001b[38;5;241m5\u001b[39m,\u001b[38;5;241m3\u001b[39m,\u001b[38;5;124m'\u001b[39m\u001b[38;5;124mmultiply\u001b[39m\u001b[38;5;124m'\u001b[39m))\n\u001b[1;32m---> 13\u001b[0m \u001b[38;5;28mprint\u001b[39m(\u001b[43mf\u001b[49m\u001b[43m(\u001b[49m\u001b[38;5;241;43m5\u001b[39;49m\u001b[43m,\u001b[49m\u001b[38;5;241;43m3\u001b[39;49m\u001b[43m,\u001b[49m\u001b[38;5;124;43m'\u001b[39;49m\u001b[38;5;124;43msub\u001b[39;49m\u001b[38;5;124;43m'\u001b[39;49m\u001b[43m)\u001b[49m)\n",
      "Cell \u001b[1;32mIn[139], line 3\u001b[0m, in \u001b[0;36mf\u001b[1;34m(no1, no2, add_multiply)\u001b[0m\n\u001b[0;32m      1\u001b[0m \u001b[38;5;28;01mdef\u001b[39;00m \u001b[38;5;21mf\u001b[39m( no1, no2, add_multiply):\n\u001b[0;32m      2\u001b[0m     \u001b[38;5;28;01mif\u001b[39;00m add_multiply \u001b[38;5;129;01mnot\u001b[39;00m \u001b[38;5;129;01min\u001b[39;00m (\u001b[38;5;124m'\u001b[39m\u001b[38;5;124madd\u001b[39m\u001b[38;5;124m'\u001b[39m , \u001b[38;5;124m'\u001b[39m\u001b[38;5;124mmultiply\u001b[39m\u001b[38;5;124m'\u001b[39m):\n\u001b[1;32m----> 3\u001b[0m         \u001b[38;5;28;01mraise\u001b[39;00m \u001b[38;5;167;01mException\u001b[39;00m (\u001b[38;5;124m'\u001b[39m\u001b[38;5;124mChoose either \u001b[39m\u001b[38;5;124m\"\u001b[39m\u001b[38;5;124madd\u001b[39m\u001b[38;5;124m\"\u001b[39m\u001b[38;5;124m or \u001b[39m\u001b[38;5;124m\"\u001b[39m\u001b[38;5;124mmultiply\u001b[39m\u001b[38;5;124m\"\u001b[39m\u001b[38;5;124m \u001b[39m\u001b[38;5;124m'\u001b[39m)\n\u001b[0;32m      4\u001b[0m     \u001b[38;5;28;01melif\u001b[39;00m add_multiply \u001b[38;5;129;01min\u001b[39;00m (\u001b[38;5;124m'\u001b[39m\u001b[38;5;124madd\u001b[39m\u001b[38;5;124m'\u001b[39m):\n\u001b[0;32m      5\u001b[0m         ans \u001b[38;5;241m=\u001b[39m no1 \u001b[38;5;241m+\u001b[39m no2\n",
      "\u001b[1;31mException\u001b[0m: Choose either \"add\" or \"multiply\" "
     ]
    }
   ],
   "source": [
    "def f( no1, no2, add_multiply):\n",
    "    if add_multiply not in ('add' , 'multiply'):\n",
    "        raise Exception ('Choose either \"add\" or \"multiply\" ')\n",
    "    elif add_multiply in ('add'):\n",
    "        ans = no1 + no2\n",
    "        return ans\n",
    "    elif add_multiply in ('multiply'):\n",
    "        ans = no1 * no2\n",
    "        return ans\n",
    "                          \n",
    "print(f(5,3,'add'))\n",
    "print(f(5,3,'multiply'))\n",
    "print(f(5,3,'sub'))\n",
    "                          "
   ]
  },
  {
   "cell_type": "markdown",
   "id": "5dc23d6b",
   "metadata": {},
   "source": [
    "### Run the program below and explain what it does."
   ]
  },
  {
   "cell_type": "code",
   "execution_count": 141,
   "id": "e0588bd9",
   "metadata": {},
   "outputs": [
    {
     "name": "stdout",
     "output_type": "stream",
     "text": [
      "What is your name dear stranger?Magesh\n",
      "Mom, I met a person whos name is: Magesh\n"
     ]
    }
   ],
   "source": [
    "name = input('What is your name dear stranger?')\n",
    "\n",
    "print('Mom, I met a person whos name is:', name)"
   ]
  },
  {
   "cell_type": "code",
   "execution_count": null,
   "id": "163c39f6",
   "metadata": {},
   "outputs": [],
   "source": []
  },
  {
   "cell_type": "markdown",
   "id": "7d7d35c1",
   "metadata": {},
   "source": [
    "# General Exercises"
   ]
  },
  {
   "cell_type": "markdown",
   "id": "d8cdd732",
   "metadata": {},
   "source": [
    "### Check if the strings below is a palindrome meaning that if you reverse the string it is the same. \n",
    "Example: anna reversed is still anna meaning it is a palindrome. john reversed is nhoj meaning it is not a palindrome. "
   ]
  },
  {
   "cell_type": "code",
   "execution_count": 142,
   "id": "53b6d2bb",
   "metadata": {},
   "outputs": [],
   "source": [
    "string_1 = 'anna'\n",
    "string_2 = 'john'"
   ]
  },
  {
   "cell_type": "code",
   "execution_count": 144,
   "id": "b6c1e2a4",
   "metadata": {},
   "outputs": [
    {
     "name": "stdout",
     "output_type": "stream",
     "text": [
      "It is a Palindrome\n",
      "It is not a Palindrome\n"
     ]
    }
   ],
   "source": [
    "if string_1 == string_1[::-1]:\n",
    "    print ('It is a Palindrome')\n",
    "else:\n",
    "    print ('It is not a Palindrome')\n",
    "    \n",
    "if string_2 == string_2[::-1]:\n",
    "    print ('It is a Palindrome')\n",
    "else:\n",
    "    print ('It is not a Palindrome')"
   ]
  },
  {
   "cell_type": "markdown",
   "id": "d8b71cd7",
   "metadata": {},
   "source": [
    "### Explain, with your own words, the difference between the two code blocks below. When would you prefer the respective method? Can you create two own examples when each method might be useful?\n",
    "A good link: https://stackoverflow.com/questions/9271712/difference-between-multiple-ifs-and-elifs ."
   ]
  },
  {
   "cell_type": "code",
   "execution_count": 145,
   "id": "1fe19154",
   "metadata": {},
   "outputs": [],
   "source": [
    "number = 8"
   ]
  },
  {
   "cell_type": "code",
   "execution_count": 146,
   "id": "54b25f3b",
   "metadata": {},
   "outputs": [
    {
     "name": "stdout",
     "output_type": "stream",
     "text": [
      "Less than 10\n",
      "Less than 100\n"
     ]
    }
   ],
   "source": [
    "if number < 5:\n",
    "    print('Less than 5')\n",
    "if number < 10:\n",
    "    print('Less than 10')\n",
    "if number < 100:\n",
    "    print('Less than 100')"
   ]
  },
  {
   "cell_type": "code",
   "execution_count": 147,
   "id": "57e56cef",
   "metadata": {},
   "outputs": [
    {
     "name": "stdout",
     "output_type": "stream",
     "text": [
      "Less than 10\n"
     ]
    }
   ],
   "source": [
    "if number < 5:\n",
    "    print('Less than 5')\n",
    "elif number < 10:\n",
    "    print('Less than 10')\n",
    "elif number < 100:\n",
    "    print('Less than 100')"
   ]
  },
  {
   "cell_type": "code",
   "execution_count": null,
   "id": "22a9be99",
   "metadata": {},
   "outputs": [],
   "source": []
  }
 ],
 "metadata": {
  "kernelspec": {
   "display_name": "Python 3 (ipykernel)",
   "language": "python",
   "name": "python3"
  },
  "language_info": {
   "codemirror_mode": {
    "name": "ipython",
    "version": 3
   },
   "file_extension": ".py",
   "mimetype": "text/x-python",
   "name": "python",
   "nbconvert_exporter": "python",
   "pygments_lexer": "ipython3",
   "version": "3.9.12"
  }
 },
 "nbformat": 4,
 "nbformat_minor": 5
}
